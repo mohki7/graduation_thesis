{
 "cells": [
  {
   "cell_type": "code",
   "execution_count": 2,
   "metadata": {},
   "outputs": [
    {
     "name": "stdout",
     "output_type": "stream",
     "text": [
      "           lval  op          rval  Estimate  Std. Err   z-value       p-value\n",
      "0  GameDuration   ~    RuleChange  0.614768  0.102012  6.026443  1.676075e-09\n",
      "1    Attendance   ~  GameDuration  0.363667  0.079043  4.600843  4.207838e-06\n",
      "2    RuleChange  ~~    RuleChange  1.015827  0.143660  7.071068  1.537437e-12\n",
      "3  GameDuration  ~~  GameDuration  1.057108  0.149498  7.071068  1.537437e-12\n",
      "4    Attendance  ~~    Attendance  0.900337  0.127327  7.071068  1.537437e-12\n"
     ]
    }
   ],
   "source": [
    "import pandas as pd\n",
    "import numpy as np\n",
    "from semopy import Model\n",
    "\n",
    "# 模擬データの生成\n",
    "np.random.seed(0)\n",
    "n_samples = 100\n",
    "X1 = np.random.normal(0, 1, n_samples)  # ルール改正\n",
    "X2 = 0.5 * X1 + np.random.normal(0, 1, n_samples)  # 試合時間\n",
    "Y = 0.3 * X2 + np.random.normal(0, 1, n_samples)  # 観客者数\n",
    "data = pd.DataFrame({'RuleChange': X1, 'GameDuration': X2, 'Attendance': Y})\n",
    "\n",
    "# SEMモデルの定義\n",
    "model_desc = \"\"\"\n",
    "# 回帰関係\n",
    "GameDuration ~ RuleChange\n",
    "Attendance ~ GameDuration\n",
    "\n",
    "# 共分散\n",
    "RuleChange ~~ RuleChange\n",
    "GameDuration ~~ GameDuration\n",
    "Attendance ~~ Attendance\n",
    "\"\"\"\n",
    "\n",
    "# モデルの構築と推定\n",
    "model = Model(model_desc)\n",
    "results = model.fit(data)\n",
    "print(model.inspect())\n"
   ]
  }
 ],
 "metadata": {
  "kernelspec": {
   "display_name": "Python 3",
   "language": "python",
   "name": "python3"
  },
  "language_info": {
   "codemirror_mode": {
    "name": "ipython",
    "version": 3
   },
   "file_extension": ".py",
   "mimetype": "text/x-python",
   "name": "python",
   "nbconvert_exporter": "python",
   "pygments_lexer": "ipython3",
   "version": "3.11.3"
  }
 },
 "nbformat": 4,
 "nbformat_minor": 2
}
